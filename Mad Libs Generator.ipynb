{
 "cells": [
  {
   "cell_type": "markdown",
   "id": "0d76330a",
   "metadata": {},
   "source": [
    "<h1>Mad Libs Generator</h1>\n",
    "\n",
    "<p style=\"font-size: 16px\">Ask user to enter in words that will be considered as a <a href=\"https://en.wikipedia.org/wiki/Mad_Libs\" target=\"_blank\" rel=\"noopener noreferrer\">Mad Lib</a>. The input could be anything, an adjective, a noun, a pronoun, etc. Once all the inputs are entered, the application will take the data and arrange the inputs into a story template form.</p>\n",
    "\n",
    "<br/>"
   ]
  },
  {
   "cell_type": "code",
   "execution_count": null,
   "id": "4ae585b5",
   "metadata": {},
   "outputs": [],
   "source": [
    "print(\"Welcome to Mad Libs Generator. Let's play!\" + \"\\n\"\n",
    "      \"We'll ask for a type of word and you enter in your response.\" + \"\\n\"\n",
    "      \"At the end, we'll show you the full story. Mu hahahaha...\"  + \"\\n\")\n",
    "\n",
    "\n",
    "name = input(\"Name: \")\n",
    "room = input(\"Room in House: \")\n",
    "furniture = input(\"Furniture: \")\n",
    "\n",
    "animal = input(\"Animal: \")\n",
    "\n",
    "verb = input(\"Verb (Past Tense): \")\n",
    "\n",
    "\n",
    "print(\"\\n\")\n",
    "print(name.capitalize() + \" and the \" + animal.capitalize())\n",
    "print(\"---------------------------\" + \"\\n\")\n",
    "print(\"Last night, \" + name + \" was walking to the \" + room + \" and something popped out from behind the \" + furniture + \".\")\n",
    "print(\"It was a/an \" + animal + \"!\")\n",
    "print(name + \" stared at the \" + animal + \" and the \" + animal + \" stared back at \" + name + \".\")\n",
    "print(\"Then the \" + animal + \" started chasing \" + name + \"!\")\n",
    "print(\"Suddenly, \" + name +  \" \" + verb + \" and the \" + animal + \" was nowhere to be seen! 😲\")\n",
    "\n"
   ]
  },
  {
   "cell_type": "code",
   "execution_count": null,
   "id": "d161835e",
   "metadata": {},
   "outputs": [],
   "source": []
  }
 ],
 "metadata": {
  "kernelspec": {
   "display_name": "Python 3",
   "language": "python",
   "name": "python3"
  },
  "language_info": {
   "codemirror_mode": {
    "name": "ipython",
    "version": 3
   },
   "file_extension": ".py",
   "mimetype": "text/x-python",
   "name": "python",
   "nbconvert_exporter": "python",
   "pygments_lexer": "ipython3",
   "version": "3.8.8"
  }
 },
 "nbformat": 4,
 "nbformat_minor": 5
}
